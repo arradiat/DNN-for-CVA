{
 "cells": [
  {
   "cell_type": "code",
   "execution_count": 3,
   "metadata": {},
   "outputs": [
    {
     "name": "stdout",
     "output_type": "stream",
     "text": [
      "Collecting gpytorch\n",
      "  Downloading gpytorch-1.4.0.tar.gz (286 kB)\n",
      "\u001b[K     |████████████████████████████████| 286 kB 194 kB/s eta 0:00:01\n",
      "\u001b[?25hCollecting torch>=1.7\n",
      "  Downloading torch-1.8.0-cp37-none-macosx_10_9_x86_64.whl (119.5 MB)\n",
      "\u001b[K     |████████████████████████████████| 119.5 MB 294 kB/s eta 0:00:01\n",
      "\u001b[?25hRequirement already satisfied: scikit-learn in /opt/anaconda3/lib/python3.7/site-packages (from gpytorch) (0.23.2)\n",
      "Requirement already satisfied: scipy in /opt/anaconda3/lib/python3.7/site-packages (from gpytorch) (1.4.1)\n",
      "Collecting typing-extensions\n",
      "  Downloading typing_extensions-3.7.4.3-py3-none-any.whl (22 kB)\n",
      "Requirement already satisfied: numpy in /opt/anaconda3/lib/python3.7/site-packages (from torch>=1.7->gpytorch) (1.17.2)\n",
      "Requirement already satisfied: threadpoolctl>=2.0.0 in /opt/anaconda3/lib/python3.7/site-packages (from scikit-learn->gpytorch) (2.1.0)\n",
      "Requirement already satisfied: joblib>=0.11 in /opt/anaconda3/lib/python3.7/site-packages (from scikit-learn->gpytorch) (0.13.2)\n",
      "Building wheels for collected packages: gpytorch\n",
      "  Building wheel for gpytorch (setup.py) ... \u001b[?25ldone\n",
      "\u001b[?25h  Created wheel for gpytorch: filename=gpytorch-1.4.0-py2.py3-none-any.whl size=477847 sha256=19e2487a6b5697f775c607df172c572884316604d438b5569d02eeb611aab229\n",
      "  Stored in directory: /Users/princessemame/Library/Caches/pip/wheels/59/4a/b6/0648f4a175939aaad8fb528d765f43624efd66de949ce9223a\n",
      "Successfully built gpytorch\n",
      "Installing collected packages: typing-extensions, torch, gpytorch\n",
      "Successfully installed gpytorch-1.4.0 torch-1.8.0 typing-extensions-3.7.4.3\n",
      "Note: you may need to restart the kernel to use updated packages.\n"
     ]
    }
   ],
   "source": [
    "pip install gpytorch"
   ]
  },
  {
   "cell_type": "code",
   "execution_count": null,
   "metadata": {},
   "outputs": [],
   "source": []
  }
 ],
 "metadata": {
  "kernelspec": {
   "display_name": "Python 3",
   "language": "python",
   "name": "python3"
  },
  "language_info": {
   "codemirror_mode": {
    "name": "ipython",
    "version": 3
   },
   "file_extension": ".py",
   "mimetype": "text/x-python",
   "name": "python",
   "nbconvert_exporter": "python",
   "pygments_lexer": "ipython3",
   "version": "3.7.4"
  }
 },
 "nbformat": 4,
 "nbformat_minor": 2
}
