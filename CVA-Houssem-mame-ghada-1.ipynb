{
 "cells": [
  {
   "cell_type": "code",
   "execution_count": 1,
   "metadata": {},
   "outputs": [
    {
     "name": "stderr",
     "output_type": "stream",
     "text": [
      "Using TensorFlow backend.\n"
     ]
    },
    {
     "name": "stdout",
     "output_type": "stream",
     "text": [
      "The autoreload extension is already loaded. To reload it, use:\n",
      "  %reload_ext autoreload\n"
     ]
    }
   ],
   "source": [
    "import numpy as np\n",
    "#from BlackScholes import *\n",
    "#from GBMSim import *\n",
    "from random import Random\n",
    "from scipy import *\n",
    "\n",
    "from sklearn import gaussian_process\n",
    "from sklearn.gaussian_process.kernels import WhiteKernel, ConstantKernel, RBF\n",
    "\n",
    "import matplotlib.pyplot as plt\n",
    "plt.style.use('ggplot')\n",
    "from mpl_toolkits import mplot3d\n",
    "from mpl_toolkits.mplot3d import Axes3D\n",
    "from matplotlib import cm\n",
    "\n",
    "%matplotlib inline\n",
    "%load_ext autoreload\n",
    "%autoreload 2\n",
    "import warnings\n",
    "warnings.filterwarnings('ignore')\n",
    "import numpy as np\n",
    "\n",
    "from random import Random\n",
    "from scipy import *\n",
    "\n",
    "from sklearn import gaussian_process\n",
    "from sklearn.gaussian_process.kernels import WhiteKernel, ConstantKernel, RBF\n",
    "\n",
    "import matplotlib.pyplot as plt\n",
    "plt.style.use('ggplot')\n",
    "from mpl_toolkits import mplot3d\n",
    "from mpl_toolkits.mplot3d import Axes3D\n",
    "from matplotlib import cm\n",
    "\n",
    "import warnings\n",
    "warnings.filterwarnings('ignore')\n",
    "\n",
    "from matplotlib import pyplot as plt\n",
    "import numpy as np\n",
    "from numpy import loadtxt\n",
    "import pandas as pd\n",
    "import matplotlib.ticker as mtick\n",
    "import seaborn as sb\n",
    "import seaborn as sns\n",
    "import statsmodels.api as sm\n",
    "\n",
    "import keras\n",
    "from keras.callbacks import ModelCheckpoint\n",
    "from keras.models import Sequential\n",
    "from keras.layers import Dense, Activation, Flatten\n",
    "from keras import backend as K\n",
    "from keras.layers import Embedding , GlobalAveragePooling1D\n",
    "from keras.datasets import imdb\n",
    "from keras.utils.generic_utils import get_custom_objects\n",
    "keras.backend.set_floatx('float64')\n",
    "\n",
    "from sklearn import  utils\n",
    "from sklearn import preprocessing\n",
    "from sklearn.model_selection import train_test_split\n",
    "from sklearn.neighbors import KNeighborsClassifier\n",
    "from sklearn.ensemble import RandomForestRegressor\n",
    "from sklearn.metrics import mean_absolute_error\n",
    "from sklearn.preprocessing import *\n",
    "from sklearn.model_selection import cross_val_score, cross_val_predict\n",
    "from sklearn.linear_model import *\n",
    "from sklearn.model_selection import *\n",
    "from sklearn import linear_model\n",
    "from sklearn.metrics import r2_score\n",
    "from sklearn.metrics import *\n",
    "import warnings \n",
    "warnings.filterwarnings('ignore')\n",
    "warnings.filterwarnings('ignore', category=DeprecationWarning)\n",
    "#from xgboost import XGBRegressor\n",
    "#%run lr_finder.ipynb \n",
    "import numpy as np\n",
    "import scipy.stats as si\n",
    "import scipy.integrate\n",
    "from cmath import *\n",
    "import warnings\n",
    "warnings.filterwarnings(\"ignore\")\n",
    "import time\n",
    "import pandas as pd\n",
    "import plotly.graph_objects as go\n",
    "import seaborn as sns\n",
    "import matplotlib.pyplot as plt\n",
    "import random\n",
    "import statsmodels.api as sm\n",
    "from mpl_toolkits.mplot3d import Axes3D\n",
    "from matplotlib import cm\n",
    "\n",
    "from numpy import *\n",
    "from sklearn.cluster import KMeans\n",
    "from matplotlib import animation\n",
    "from scipy.interpolate import interp2d\n",
    "%matplotlib inline\n",
    "\n",
    "%matplotlib inline\n",
    "%load_ext autoreload\n",
    "%autoreload 2\n",
    "%matplotlib inline"
   ]
  },
  {
   "cell_type": "code",
   "execution_count": 2,
   "metadata": {},
   "outputs": [],
   "source": [
    "import scipy.stats as st\n",
    "import numpy as np\n",
    "import math\n",
    "\n",
    "def bsformula(cp, s, k, rf, t, v, div):\n",
    "        \"\"\" Price an option using the Black-Scholes model.\n",
    "        cp: +1/-1 for call/put\n",
    "        s: initial stock price\n",
    "        k: strike price\n",
    "        t: expiration time\n",
    "        v: volatility\n",
    "        rf: risk-free rate\n",
    "        div: dividend\n",
    "        \"\"\"\n",
    "\n",
    "        d1 = (np.log(s/k)+(rf-div+0.5*v*v)*t)/(v*np.sqrt(t))\n",
    "        d2 = d1 - v*np.sqrt(t)\n",
    "\n",
    "        optprice = (cp*s*np.exp(-div*t)*st.norm.cdf(cp*d1)) - (cp*k*np.exp(-rf*t)*st.norm.cdf(cp*d2))\n",
    "        delta = cp*st.norm.cdf(cp*d1)\n",
    "        vega  = s*np.sqrt(t)*st.norm.pdf(d1)\n",
    "        return optprice, delta, vega"
   ]
  },
  {
   "cell_type": "code",
   "execution_count": 3,
   "metadata": {},
   "outputs": [],
   "source": [
    "import numpy as np\n",
    "\"\"\" Simulate dynamics under GBM \"\"\" \n",
    "\n",
    "def gbm(S0, mu, sigma, T = 1., N = 10, M= 1000): \n",
    "    \n",
    "    dt = T/ float(N) \n",
    "    S= np.array([S0]*(N+1)*M, dtype='float32').reshape(N+1, M)  \n",
    "       \n",
    "    for i in range(N):      \n",
    "        dS = S[i,]*(mu*dt +  sigma*np.sqrt(dt)*np.random.randn(M))\n",
    "        S[i+1,]=S[i,] + dS \n",
    "    \n",
    "    return S\n"
   ]
  },
  {
   "cell_type": "code",
   "execution_count": 4,
   "metadata": {},
   "outputs": [],
   "source": [
    "def trainGPs(x_train, f, timegrid):\n",
    "\n",
    "    gps = []\n",
    "    i = 0\n",
    "    for time in timegrid:\n",
    "        \n",
    "        y_train = []\n",
    "        \n",
    "        for idx in range(len(x_train)):\n",
    "             y_train.append(f(x_train[idx][0], time+0.001))\n",
    "        y_train = np.array(y_train)\n",
    "\n",
    "        sk_kernel = RBF(length_scale=1.0, length_scale_bounds=(0.01, 100.0))  #100000.0\n",
    "        gp = gaussian_process.GaussianProcessRegressor(kernel=sk_kernel, n_restarts_optimizer=20)\n",
    "        gp.fit(x_train,y_train)\n",
    "        gps.append(gp)\n",
    "        i += 1\n",
    "    return gps   "
   ]
  },
  {
   "cell_type": "code",
   "execution_count": 5,
   "metadata": {},
   "outputs": [],
   "source": [
    "def predictGPs(x_test, f, gps, timegrid):\n",
    "    \n",
    "    preds = []\n",
    "    stds = []\n",
    "    y_tests = []\n",
    "    i = 0\n",
    "    for time in timegrid:\n",
    "        \n",
    "        y_test_= []\n",
    "        for idx in range(len(x_test)):\n",
    "            y_test_.append(f(x_test[idx][0], time+0.001))\n",
    "            \n",
    "        y_test = np.array(y_test_)\n",
    "        y_tests.append(y_test)\n",
    "        \n",
    "        # Find optimal model hyperparameters\n",
    "        # Set into eval mode\n",
    "        pred, std = gps[i].predict(x_test,return_std=True)\n",
    "        preds.append(pred)\n",
    "        stds.append(std)\n",
    "        i+=1\n",
    "    return y_tests, preds, stds "
   ]
  },
  {
   "cell_type": "markdown",
   "metadata": {},
   "source": [
    "# essai"
   ]
  },
  {
   "cell_type": "code",
   "execution_count": 6,
   "metadata": {},
   "outputs": [],
   "source": [
    "def GenerateCorrelatedPaths(processArray, timeGrid, nPaths):\n",
    "    times = []; [times.append(timeGrid[t]) for t in range(len(timeGrid))]\n",
    "    generator = UniformRandomGenerator()\n",
    "    nProcesses = processArray.size()\n",
    "    nGridSteps = len(times) - 1 # deduct initial time (0.0)\n",
    "    nSteps = nGridSteps * nProcesses\n",
    "    sequenceGenerator = UniformRandomSequenceGenerator(nSteps, generator)\n",
    "    gaussianSequenceGenerator = GaussianRandomSequenceGenerator(sequenceGenerator)\n",
    "    multiPathGenerator = GaussianMultiPathGenerator(processArray, times, gaussianSequenceGenerator)\n",
    "    paths = np.zeros(shape = (nPaths, nProcesses, len(timeGrid)))\n",
    "\n",
    "    # loop through number of paths\n",
    "    for i in range(nPaths):\n",
    "        # request multiPath, which contains the list of paths for each process\n",
    "        multiPath = multiPathGenerator.next().value()\n",
    "        # loop through number of processes\n",
    "        for j in range(multiPath.assetNumber()):\n",
    "            # request path, which contains the list of simulated prices for a process\n",
    "            path = multiPath[j]\n",
    "            # push prices to array\n",
    "            paths[i, j, :] = np.array([path[k] for k in range(len(path))])\n",
    "    return paths"
   ]
  },
  {
   "cell_type": "code",
   "execution_count": 38,
   "metadata": {},
   "outputs": [],
   "source": [
    "def generatepath(nProcesses,correlation,nPaths,nSteps, mue, spot, sigma,maturity):\n",
    "    # mue est un veceteur de taille le nombre de processs\n",
    "    # sigma aussi \n",
    "    #\n",
    "    #\n",
    "    process = []\n",
    "    [process.append(GeometricBrownianMotionProcess(spot, mue, sigma)) for i in range(nProcesses)]\n",
    "\n",
    "    cor=correlation\n",
    "    matrix =[[1.0, cor,cor,cor,cor,cor,cor,cor,cor,cor], \n",
    "         [ cor,1.0,cor,cor,cor,cor,cor,cor,cor,cor],\n",
    "         [ cor,cor,1.0,cor,cor,cor,cor,cor,cor,cor],\n",
    "         [ cor,cor,cor,1.0,cor,cor,cor,cor,cor,cor],\n",
    "         [cor,cor,cor,cor,1.0, cor,cor,cor,cor,cor],\n",
    "         [ cor,cor,cor,cor,cor,1.0,cor,cor,cor,cor],\n",
    "         [cor,cor,cor,cor,cor,cor,1.0,cor, cor,cor],\n",
    "         [ cor,cor,cor,cor,cor,cor,cor,1.0,cor,cor],\n",
    "         [ cor,cor,cor,cor,cor,cor,cor,cor,1.0,cor],\n",
    "         [cor,cor,cor,cor,cor,cor,cor,cor,cor, 1.0]]\n",
    "\n",
    "\n",
    "# create timegrid object and define number of paths\n",
    "    \n",
    "    timeGrid = TimeGrid(maturity, nSteps)\n",
    "\n",
    "    # create StochasticProcessArray object\n",
    "    # (array of correlated 1-D stochastic processes)\n",
    "    processArray = StochasticProcessArray(process, matrix)\n",
    "    # request simulated correlated paths for all processes\n",
    "    # result array dimensions: nPaths, nProcesses, len(timeGrid)\n",
    "    paths = GenerateCorrelatedPaths(processArray, timeGrid, nPaths)\n",
    "    return (paths)"
   ]
  },
  {
   "cell_type": "code",
   "execution_count": 39,
   "metadata": {},
   "outputs": [],
   "source": [
    "def price_basket(cp,mue,sigma, spot, K,maturity,nPaths,nProcesses, correlation,nSteps):\n",
    "    paths= generatepath(nProcesses,correlation,nPaths,nSteps, mue, spot, sigma,maturity)\n",
    "    final=paths[:,:,nSteps]\n",
    "    a=[0]*nPaths\n",
    "    if(cp==1): #on a un put\n",
    "        for i in range(nPaths): # pour chaque chemin je recupére lesvaluers finaux des 10 stock et je prend le minimum\n",
    "            a[i]=max(min(final[i])-K,0) # pour chaque path je calcule le max(min(final[i])-K ,0)\n",
    "           # print(max(final[i]))\n",
    "    else:\n",
    "        for i in range(nPaths): # pour chaque chemin je recupére lesvaluers finaux des 10 stock et je prend le minimum\n",
    "            a[i]=max(K-min(final[i]),0) # pour chaque path je calcule le max(min(final[i])-K ,0)\n",
    "           # print(max(final[i]))\n",
    "    price=mean(a)\n",
    "    return (np.exp(-mue*maturity)*price)"
   ]
  },
  {
   "cell_type": "code",
   "execution_count": 40,
   "metadata": {},
   "outputs": [],
   "source": [
    "from QuantLib import *\n",
    "import numpy as np"
   ]
  },
  {
   "cell_type": "code",
   "execution_count": 45,
   "metadata": {},
   "outputs": [],
   "source": [
    "from sklearn import gaussian_process\n",
    "from sklearn.gaussian_process.kernels import WhiteKernel, ConstantKernel, RBF\n",
    "nProcesses = 10\n",
    "correlation = 0.7\n",
    "maturity = 2\n",
    "nSteps = 11\n",
    "nPaths = 1500\n",
    "mue=0.01\n",
    "sigma=0.25\n",
    "spot=100\n",
    "K=100"
   ]
  },
  {
   "cell_type": "code",
   "execution_count": 46,
   "metadata": {},
   "outputs": [],
   "source": [
    "# specify the portfolio\n",
    "KC = 110    # Call strike\n",
    "KP = 90     # Put strike\n",
    "lb = 0.01\n",
    "ub = 400\n",
    "r  = 0\n",
    "sigma = 0.3\n",
    "nt = 11\n",
    "T = 2.0\n",
    "S0 = 100\n",
    "timeGrid = TimeGrid(maturity, nSteps)\n",
    "\n",
    "\n",
    "portfolio = {}\n",
    "portfolio['call']={}\n",
    "portfolio['put']={}\n",
    "\n",
    "portfolio['call']['price']= lambda x,y:price_basket(1,mue,sigma, lb+(ub-lb)*x, K,y,nPaths,nProcesses, correlation,nSteps)\n",
    "portfolio['put']['price']= lambda x,y: price_basket(-1,mue,sigma, lb+(ub-lb)*x, K,y,nPaths,nProcesses, correlation,nSteps)\n",
    "portfolio['call']['weight']=2.0\n",
    "portfolio['put']['weight']=-1.0"
   ]
  },
  {
   "cell_type": "code",
   "execution_count": 47,
   "metadata": {},
   "outputs": [],
   "source": [
    "# prepare training and test data\n",
    "training_number= 100\n",
    "testing_number = 50\n",
    "x_train = np.array(np.linspace(0.0,1.0, training_number), dtype='float32').reshape(training_number, 1)\n",
    "x_test = np.array(np.linspace(0.0,1.0, testing_number), dtype='float32').reshape(testing_number, 1)"
   ]
  },
  {
   "cell_type": "code",
   "execution_count": 48,
   "metadata": {},
   "outputs": [],
   "source": [
    "for key in portfolio.keys():\n",
    "    portfolio[key]['GPs'] = trainGPs(x_train, portfolio[key]['price'], timeGrid)\n",
    "    portfolio[key]['y_tests'], portfolio[key]['preds'], portfolio[key]['sigmas'] = predictGPs(x_test, portfolio[key]['price'], portfolio[key]['GPs'], timeGrid)"
   ]
  },
  {
   "cell_type": "code",
   "execution_count": 49,
   "metadata": {},
   "outputs": [
    {
     "name": "stdout",
     "output_type": "stream",
     "text": [
      "MSE call 1.7121570570483926\n",
      "MSE put 0.30448966280703027\n"
     ]
    }
   ],
   "source": [
    "print('MSE call',np.sqrt(np.mean((np.array(portfolio['call']['y_tests'])- np.array(portfolio['call']['preds']))**2)))\n",
    "print('MSE put',np.sqrt(np.mean((np.array(portfolio['put']['y_tests'])- np.array(portfolio['put']['preds']))**2)))"
   ]
  },
  {
   "cell_type": "code",
   "execution_count": 50,
   "metadata": {
    "scrolled": true
   },
   "outputs": [
    {
     "data": {
      "image/png": "[encoded data removed]",
      "text/plain": [
       "<Figure size 432x288 with 1 Axes>"
      ]
     },
     "metadata": {
      "needs_background": "light"
     },
     "output_type": "display_data"
    },
    {
     "data": {
      "image/png": "[encoded data removed]",
      "text/plain": [
       "<Figure size 432x288 with 1 Axes>"
      ]
     },
     "metadata": {
      "needs_background": "light"
     },
     "output_type": "display_data"
    },
    {
     "data": {
      "text/plain": [
       "[<matplotlib.lines.Line2D at 0x7fce028e8ad0>]"
      ]
     },
     "execution_count": 50,
     "metadata": {},
     "output_type": "execute_result"
    },
    {
     "data": {
      "image/png": "[encoded data removed]",
      "text/plain": [
       "<Figure size 432x288 with 1 Axes>"
      ]
     },
     "metadata": {
      "needs_background": "light"
     },
     "output_type": "display_data"
    }
   ],
   "source": [
    "plt.plot(portfolio['call']['y_tests'][0],label='y_test')\n",
    "plt.plot(portfolio['call']['preds'][0],label='y_pred')\n",
    "plt.legend()\n",
    "plt.show()\n",
    "plt.plot(portfolio['put']['preds'][0],label='y_pred')\n",
    "plt.plot(portfolio['put']['y_tests'][0],label='y_test')\n",
    "plt.legend()\n",
    "plt.show()\n",
    "plt.plot(portfolio['put']['preds'][0],portfolio['put']['y_tests'][0])\n",
    "   "
   ]
  },
  {
   "cell_type": "code",
   "execution_count": 33,
   "metadata": {},
   "outputs": [
    {
     "data": {
      "text/plain": [
       "0.004308257258396861"
      ]
     },
     "execution_count": 33,
     "metadata": {},
     "output_type": "execute_result"
    }
   ],
   "source": [
    "mean_squared_error(portfolio['put']['preds'][0],portfolio['put']['y_tests'][0])\n",
    "mean_squared_error(portfolio['call']['preds'][0],portfolio['call']['y_tests'][0])"
   ]
  },
  {
   "cell_type": "code",
   "execution_count": 84,
   "metadata": {},
   "outputs": [],
   "source": [
    " import time as ti"
   ]
  },
  {
   "cell_type": "code",
   "execution_count": 85,
   "metadata": {},
   "outputs": [],
   "source": [
    "def gbm(S0, mu, sigma, T = 1., N = 10, M= 1000): \n",
    "    \n",
    "    dt = T/ float(N) \n",
    "    S= np.array([S0]*(N+1)*M, dtype='float32').reshape(N+1, M)  \n",
    "       \n",
    "    for i in range(N):      \n",
    "        dS = S[i,]*(mu*dt +  sigma*np.sqrt(dt)*np.random.randn(M))\n",
    "        S[i+1,]=S[i,] + dS \n",
    "    \n",
    "    return S"
   ]
  },
  {
   "cell_type": "code",
   "execution_count": 107,
   "metadata": {},
   "outputs": [],
   "source": [
    "def CVA_simulation(sim_params, model_params, def_model):\n",
    "    \n",
    "    n_sim_dt = sim_params['n_sim_dt'] # number of Euler stpes\n",
    "    M        = sim_params['M']        # number of paths\n",
    "    nt       = sim_params['nt']       # number of exposure dates\n",
    "    timegrid = sim_params['timegrid'] # time grid of exposure dates\n",
    "    \n",
    "    r        = model_params['r']\n",
    "    sigma    = model_params['sigma']\n",
    "    T        = model_params['T'] \n",
    "    t0       = model_params['t0'] \n",
    "    S0       = model_params['S0'] \n",
    "    \n",
    "    gamma_0  = def_model['gamma_0']\n",
    "    gamma_1  = def_model['gamma_1']\n",
    "    \n",
    "    \n",
    "    stride = n_sim_dt/(nt-1)\n",
    "    idx = np.arange(0,n_sim_dt+1,stride, dtype=int)\n",
    "    \n",
    "    pi = {}\n",
    "    pi['tilde'] = np.array([0.0]*(nt-1)*M, dtype='float32').reshape((nt-1), M)     # GP portfolio value\n",
    "    pi['exact'] = np.array([0.0]*(nt-1)*M, dtype='float32').reshape((nt-1), M)     #  portfolio value\n",
    "    pi['tilde_var'] = np.array([0.0]*(nt-1)*M, dtype='float32').reshape((nt-1), M) # GP portfolio variance\n",
    "    gamma = np.array([0.0]*(nt-1)*M, dtype='float32').reshape((nt-1), M)           # hazard rates\n",
    "    dPD = np.array([0.0]*(nt-1)*M, dtype='float32').reshape((nt-1), M)             # default probabilities\n",
    "    \n",
    "    #simulate underlying GBM dynamics using Euler\n",
    "    S = gbm(S0, r, sigma, T-t0, n_sim_dt, M)\n",
    "    \n",
    "    if (def_model['calibrate']):\n",
    "        x  = np.exp(S0/S)**gamma_1\n",
    "        # default probability (assumed to be estimated from credit spread)\n",
    "        dt = timegrid[1]-timegrid[0] \n",
    "        f  = lambda y: np.abs(np.mean(np.prod(x**(-y*dt), axis=0)) - def_model['p']) \n",
    "        res = sp.optimize.basinhopping(f, 0.1, niter=10)\n",
    "        i = 1   \n",
    "        while (abs(res.fun) >1e-3):   \n",
    "          res = sp.optimize.basinhopping(f,0.1,niter=100*i)\n",
    "          i *= 2\n",
    "        gamma_0= res.x[0]\n",
    "        print(\"calibration:\",gamma_0,gamma_1,f(gamma_0),res.fun)  \n",
    "  \n",
    "    start=ti.time()\n",
    "    for m in range(M):  \n",
    "      i = 1 \n",
    "      exp_factor=1\n",
    "        \n",
    "      for time in timegrid[1:]:\n",
    "        dt = timegrid[i]-timegrid[i-1] \n",
    "        \n",
    "        S_= S[idx[i],m] # simulated S\n",
    "        # avoid simulated S breaching boundaries of domain\n",
    "        if (S_<lb):\n",
    "            mins=S_\n",
    "            S_=lb\n",
    "        if (S_>ub):\n",
    "            S_=ub\n",
    "            maxs=S_\n",
    "    \n",
    "        pred_= 0\n",
    "        v_ = 0\n",
    "        var_ =0 \n",
    "        start0 = ti.time()\n",
    "        for key in portfolio.keys():\n",
    "           pred, std = portfolio[key]['GPs'][i].predict(np.array([(S_-lb)/(ub-lb)]).reshape(1,-1),return_std=True) \n",
    "           pred_ += portfolio[key]['weight']*pred\n",
    "           var_ += (portfolio[key]['weight']*std)**2 \n",
    "        start1 = ti.time()\n",
    "        for key in portfolio.keys():\n",
    "            if key=='call':\n",
    "                v_ += portfolio[key]['weight']*price_basket(1,r,sigma,S_.item(),KC,time[0].item() ,nPaths,nProcesses, correlation,nSteps)\n",
    "            else:\n",
    "                v_ += portfolio[key]['weight']*price_basket(-1,r,sigma,S_.item(),KP,time[0].item(),nPaths,nProcesses, correlation,nSteps)\n",
    "                \n",
    "                \n",
    "        pi['tilde'][i-1,m] = np.maximum(pred_,0)\n",
    "        pi['exact'][i-1,m] = np.maximum(v_,0)\n",
    "        pi['tilde_var'][i-1,m] =var_ \n",
    "          \n",
    "        # default intensity model\n",
    "        gamma[i-1,m] = gamma_0*(S0/S_)**gamma_1    \n",
    "        \n",
    "        # compute default probabilities  \n",
    "        exp_factor*=np.exp(-dt*gamma[i-1,m])    \n",
    "        dPD[i-1,m]= gamma[i-1,m]*exp_factor\n",
    "        \n",
    "        i += 1\n",
    "    end0 = ti.time() \n",
    "    print(\"la totalité du calcul dure \")\n",
    "    print((end0 - start)) \n",
    "    print(\"le GP dure\")\n",
    "    print((end0 - start0)*M) \n",
    "    print(\"le tbenchmark dure dure\")\n",
    "    print((end0 - start1)*M) \n",
    "    # compute CVA\n",
    "    i = 0\n",
    "    CVA ={}\n",
    "    CVA['tilde'] = 0\n",
    "    CVA['exact'] = 0\n",
    "    CVA['tilde_up'] = 0\n",
    "    CVA['tilde_down'] = 0\n",
    "   \n",
    "    for time in timegrid[1:]:\n",
    "        dt = timegrid[i+1]-timegrid[i]\n",
    "        mu_tilde = np.mean(dPD[i,:]*pi['tilde'][i,:])*np.exp(-r*(time-t0))*dt\n",
    "        CVA['tilde'] += mu_tilde\n",
    "        std_err_MC = np.std(dPD[i,:]*pi['tilde'][i,:])*np.exp(-r*(time-t0))*dt/np.sqrt(M)\n",
    "        CVA['tilde_up'] += mu_tilde + 2.0*std_err_MC\n",
    "        CVA['tilde_down'] += mu_tilde - 2.0*std_err_MC\n",
    "        CVA['exact'] += np.mean(dPD[i,:]*pi['exact'][i,:])*np.exp(-r*(time-t0))*dt\n",
    "        i+=1\n",
    "    CVA['tilde'] *= (1-def_model['recovery'])\n",
    "    CVA['tilde_up'] *= (1-def_model['recovery'])\n",
    "    CVA['tilde_down'] *= (1-def_model['recovery'])\n",
    "    CVA['exact'] *= (1-def_model['recovery'])\n",
    "        \n",
    "    return(CVA, pi)"
   ]
  },
  {
   "cell_type": "markdown",
   "metadata": {},
   "source": [
    "# CVA"
   ]
  },
  {
   "cell_type": "code",
   "execution_count": 108,
   "metadata": {},
   "outputs": [],
   "source": [
    "sim_params = {}\n",
    "model_params = {}\n",
    "def_model = {}\n",
    "  \n",
    "model_params['r'] = r        # risk-free rate\n",
    "model_params['sigma'] = sigma  # implied volatility\n",
    "model_params['T'] = maturity        # Time to maturity \n",
    "model_params['t0'] = 0\n",
    "model_params['S0'] = S0     # Underlying spot\n",
    "     \n",
    "# parameters to the default intensity model    \n",
    "def_model['gamma_0'] = 0.01\n",
    "def_model['gamma_1'] = 1.2\n",
    "def_model['calibrate'] = False    \n",
    "def_model['recovery'] = 0.4\n",
    "\n",
    "sim_params['n_sim_dt'] = 100 # number of Euler stpes\n",
    "sim_params['M']  = 200     # number of paths\n",
    "sim_params['nt'] = nt        # number of exposure dates\n",
    "timegrid = np.array(np.linspace(0.0,T,nt), dtype='float32').reshape(nt, 1)\n",
    "sim_params['timegrid']= timegrid # time grid of exposure dates"
   ]
  },
  {
   "cell_type": "code",
   "execution_count": 109,
   "metadata": {
    "scrolled": true
   },
   "outputs": [
    {
     "name": "stdout",
     "output_type": "stream",
     "text": [
      "la totalité du calcul dure \n",
      "378.15966796875\n",
      "le GP dure\n",
      "36.580610275268555\n",
      "le tbenchmark dure dure\n",
      "36.51714324951172\n"
     ]
    }
   ],
   "source": [
    "# train and predict over portfolio\n",
    "\n",
    "CVA_0, pi = CVA_simulation(sim_params, model_params, def_model)\n"
   ]
  },
  {
   "cell_type": "code",
   "execution_count": 110,
   "metadata": {},
   "outputs": [
    {
     "data": {
      "text/plain": [
       "{'tilde': array([0.04737453], dtype=float32),\n",
       " 'exact': array([0.03192904], dtype=float32),\n",
       " 'tilde_up': array([0.06318804], dtype=float32),\n",
       " 'tilde_down': array([0.031561], dtype=float32)}"
      ]
     },
     "execution_count": 110,
     "metadata": {},
     "output_type": "execute_result"
    }
   ],
   "source": [
    "CVA_0"
   ]
  },
  {
   "cell_type": "code",
   "execution_count": 111,
   "metadata": {},
   "outputs": [
    {
     "data": {
      "text/plain": [
       "[<matplotlib.lines.Line2D at 0x7fcdff9bac90>]"
      ]
     },
     "execution_count": 111,
     "metadata": {},
     "output_type": "execute_result"
    },
    {
     "data": {
      "image/png": "[encoded data removed]",
      "text/plain": [
       "<Figure size 432x288 with 1 Axes>"
      ]
     },
     "metadata": {
      "needs_background": "light"
     },
     "output_type": "display_data"
    }
   ],
   "source": [
    "plt.plot(np.mean(pi['tilde'],axis=1))\n",
    "plt.plot(np.mean( pi['exact'], axis = 1))"
   ]
  },
  {
   "cell_type": "code",
   "execution_count": 112,
   "metadata": {},
   "outputs": [
    {
     "data": {
      "text/plain": [
       "<matplotlib.legend.Legend at 0x7fce033258d0>"
      ]
     },
     "execution_count": 112,
     "metadata": {},
     "output_type": "execute_result"
    },
    {
     "data": {
      "image/png": "[encoded data removed]",
      "text/plain": [
       "<Figure size 720x432 with 1 Axes>"
      ]
     },
     "metadata": {},
     "output_type": "display_data"
    }
   ],
   "source": [
    "# Error plot\n",
    "up = np.mean(pi['tilde'], axis=1) -np.mean(pi['exact'], axis=1)+2.0*np.sqrt(np.mean(pi['tilde_var'], axis=1))   # 95% confident interval \n",
    "down = np.mean(pi['tilde'], axis=1) -np.mean(pi['exact'], axis=1)- 2.0*np.sqrt(np.mean(pi['tilde_var'], axis=1))   # 95% confident interval \n",
    "\n",
    "plt.figure(figsize = (10,6),facecolor='white', edgecolor='black')\n",
    "plt.plot(timegrid[1:], np.mean(pi['exact'], axis=1)-np.mean(pi['tilde'], axis=1), color = 'black', label = 'Error in Expected Positive Exposure')\n",
    "plt.fill_between(timegrid[1:].flatten(), np.array(down), np.array(up), color = 'grey', alpha=0.3)\n",
    "plt.grid(True)\n",
    "#plt.xlim(90, 110)\n",
    "plt.xlabel('time')\n",
    "plt.ylabel('Error in Expected Positive Exposure')\n",
    "plt.legend(loc = 'best', prop={'size':10})"
   ]
  },
  {
   "cell_type": "code",
   "execution_count": 113,
   "metadata": {},
   "outputs": [],
   "source": [
    "vect=[np.mean(pi['tilde'][i]) for i in range(10)]\n",
    "vect1=[np.mean(pi['exact'][i]) for i in range(10)]"
   ]
  },
  {
   "cell_type": "code",
   "execution_count": 114,
   "metadata": {},
   "outputs": [
    {
     "data": {
      "text/plain": [
       "<matplotlib.legend.Legend at 0x7fce0229e710>"
      ]
     },
     "execution_count": 114,
     "metadata": {},
     "output_type": "execute_result"
    },
    {
     "data": {
      "image/png": "[encoded data removed]",
      "text/plain": [
       "<Figure size 432x288 with 1 Axes>"
      ]
     },
     "metadata": {
      "needs_background": "light"
     },
     "output_type": "display_data"
    }
   ],
   "source": [
    "temps=range(nt-1)\n",
    "plt.plot(temps,vect,label='expected positive exposure GP')\n",
    "plt.plot(temps,vect1,label='expected positive exposure')\n",
    "plt.xlabel('time')\n",
    "plt.ylabel('expected positive exposure')\n",
    "plt.legend()"
   ]
  },
  {
   "cell_type": "code",
   "execution_count": null,
   "metadata": {},
   "outputs": [],
   "source": []
  },
  {
   "cell_type": "code",
   "execution_count": null,
   "metadata": {},
   "outputs": [],
   "source": []
  },
  {
   "cell_type": "code",
   "execution_count": null,
   "metadata": {},
   "outputs": [],
   "source": []
  }
 ],
 "metadata": {
  "kernelspec": {
   "display_name": "Python 3",
   "language": "python",
   "name": "python3"
  },
  "language_info": {
   "codemirror_mode": {
    "name": "ipython",
    "version": 3
   },
   "file_extension": ".py",
   "mimetype": "text/x-python",
   "name": "python",
   "nbconvert_exporter": "python",
   "pygments_lexer": "ipython3",
   "version": "3.7.4"
  }
 },
 "nbformat": 4,
 "nbformat_minor": 2
}
