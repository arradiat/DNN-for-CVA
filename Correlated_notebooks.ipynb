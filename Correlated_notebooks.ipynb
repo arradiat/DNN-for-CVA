{
 "cells": [
  {
   "cell_type": "markdown",
   "metadata": {},
   "source": [
    "# Generating N normal distributions with a given correlation\n",
    "##### Author: Guillaume Guy\n",
    "##### Date: 2020/10/25\n",
    "\n",
    "###### Implementation of Joseph K's answer: https://math.stackexchange.com/questions/446093/generate-correlated-normal-random-variables"
   ]
  },
  {
   "cell_type": "code",
   "execution_count": 2,
   "metadata": {},
   "outputs": [],
   "source": [
    "import numpy as np\n",
    "import matplotlib.pyplot as plt"
   ]
  },
  {
   "cell_type": "code",
   "execution_count": 3,
   "metadata": {},
   "outputs": [],
   "source": [
    "def print_charact(x):\n",
    "    print(\"mean\",np.mean(x))\n",
    "    print(\"std\",np.std(x))\n",
    "    return"
   ]
  },
  {
   "cell_type": "code",
   "execution_count": 4,
   "metadata": {},
   "outputs": [
    {
     "name": "stdout",
     "output_type": "stream",
     "text": [
      "(1000, 10)\n"
     ]
    }
   ],
   "source": [
    "_N = 1000 # the desired sample size\n",
    "_corr = 0.5 # the desired correlation\n",
    "_N_DIST = 10\n",
    "\n",
    "# generate random normal distribution\n",
    "acc = []\n",
    "for i in range(_N_DIST):\n",
    "    acc.append(np.reshape(np.random.normal(0,1,_N),(_N,-1)))\n",
    "    \n",
    "# Compute \n",
    "all_norm = np.concatenate(acc,axis=1)\n",
    "\n",
    "print(all_norm.shape)"
   ]
  },
  {
   "cell_type": "code",
   "execution_count": 5,
   "metadata": {},
   "outputs": [],
   "source": [
    "def generate_cov(dim):\n",
    "    acc  = []\n",
    "    for i in range(dim):\n",
    "        row = np.ones((1,dim)) * _corr\n",
    "        row[0][i] = 1\n",
    "        acc.append(row)\n",
    "    return np.concatenate(acc,axis=0)"
   ]
  },
  {
   "cell_type": "code",
   "execution_count": 6,
   "metadata": {},
   "outputs": [
    {
     "name": "stdout",
     "output_type": "stream",
     "text": [
      "correlation:\n",
      "\n"
     ]
    },
    {
     "data": {
      "text/plain": [
       "array([[1.  , 0.45, 0.46, 0.48, 0.5 , 0.49, 0.49, 0.52, 0.49, 0.48],\n",
       "       [0.45, 1.  , 0.49, 0.52, 0.5 , 0.47, 0.5 , 0.53, 0.51, 0.47],\n",
       "       [0.46, 0.49, 1.  , 0.5 , 0.49, 0.49, 0.51, 0.52, 0.49, 0.51],\n",
       "       [0.48, 0.52, 0.5 , 1.  , 0.52, 0.47, 0.49, 0.54, 0.54, 0.5 ],\n",
       "       [0.5 , 0.5 , 0.49, 0.52, 1.  , 0.5 , 0.52, 0.57, 0.51, 0.52],\n",
       "       [0.49, 0.47, 0.49, 0.47, 0.5 , 1.  , 0.5 , 0.51, 0.52, 0.51],\n",
       "       [0.49, 0.5 , 0.51, 0.49, 0.52, 0.5 , 1.  , 0.54, 0.52, 0.5 ],\n",
       "       [0.52, 0.53, 0.52, 0.54, 0.57, 0.51, 0.54, 1.  , 0.55, 0.52],\n",
       "       [0.49, 0.51, 0.49, 0.54, 0.51, 0.52, 0.52, 0.55, 1.  , 0.53],\n",
       "       [0.48, 0.47, 0.51, 0.5 , 0.52, 0.51, 0.5 , 0.52, 0.53, 1.  ]])"
      ]
     },
     "execution_count": 6,
     "metadata": {},
     "output_type": "execute_result"
    }
   ],
   "source": [
    "cov = generate_cov(_N_DIST)\n",
    "C = np.linalg.cholesky(cov)\n",
    "\n",
    "Y = np.transpose(0 + np.dot(C,np.transpose(all_norm) ))\n",
    "\n",
    "print(\"correlation:\\n\")\n",
    "\n",
    "np.round(np.corrcoef(Y,rowvar=False),2)"
   ]
  },
  {
   "cell_type": "code",
   "execution_count": 7,
   "metadata": {},
   "outputs": [
    {
     "data": {
      "text/plain": [
       "array([[1. , 0.5, 0.5, 0.5, 0.5, 0.5, 0.5, 0.5, 0.5, 0.5],\n",
       "       [0.5, 1. , 0.5, 0.5, 0.5, 0.5, 0.5, 0.5, 0.5, 0.5],\n",
       "       [0.5, 0.5, 1. , 0.5, 0.5, 0.5, 0.5, 0.5, 0.5, 0.5],\n",
       "       [0.5, 0.5, 0.5, 1. , 0.5, 0.5, 0.5, 0.5, 0.5, 0.5],\n",
       "       [0.5, 0.5, 0.5, 0.5, 1. , 0.5, 0.5, 0.5, 0.5, 0.5],\n",
       "       [0.5, 0.5, 0.5, 0.5, 0.5, 1. , 0.5, 0.5, 0.5, 0.5],\n",
       "       [0.5, 0.5, 0.5, 0.5, 0.5, 0.5, 1. , 0.5, 0.5, 0.5],\n",
       "       [0.5, 0.5, 0.5, 0.5, 0.5, 0.5, 0.5, 1. , 0.5, 0.5],\n",
       "       [0.5, 0.5, 0.5, 0.5, 0.5, 0.5, 0.5, 0.5, 1. , 0.5],\n",
       "       [0.5, 0.5, 0.5, 0.5, 0.5, 0.5, 0.5, 0.5, 0.5, 1. ]])"
      ]
     },
     "execution_count": 7,
     "metadata": {},
     "output_type": "execute_result"
    }
   ],
   "source": [
    "cov"
   ]
  },
  {
   "cell_type": "code",
   "execution_count": 38,
   "metadata": {},
   "outputs": [
    {
     "name": "stdout",
     "output_type": "stream",
     "text": [
      "0\n",
      "mean 1.7904622168174454e-06\n",
      "std 0.9821817946373764\n",
      "1\n",
      "mean -0.02090088636249413\n",
      "std 0.9842734148976069\n",
      "2\n",
      "mean -0.0016655268110751748\n",
      "std 0.981079983866336\n",
      "3\n",
      "mean 0.010311391507831912\n",
      "std 0.9663983307800322\n",
      "4\n",
      "mean -0.009703661954811892\n",
      "std 1.0136848058299461\n",
      "5\n",
      "mean 0.0146886861753113\n",
      "std 0.9919174143858184\n",
      "6\n",
      "mean -0.016533876179727198\n",
      "std 0.9970154508617741\n",
      "7\n",
      "mean -0.03270812898712095\n",
      "std 1.0172743967467262\n",
      "8\n",
      "mean -0.000916190529393333\n",
      "std 0.9808169489640567\n",
      "9\n",
      "mean 0.040731644788056194\n",
      "std 0.9872486634445825\n"
     ]
    }
   ],
   "source": [
    "for i in range(_N_DIST):\n",
    "    print(i)\n",
    "    print_charact(Y[:,i])"
   ]
  },
  {
   "cell_type": "code",
   "execution_count": 42,
   "metadata": {},
   "outputs": [
    {
     "data": {
      "image/png": "[encoded data removed]",
      "text/plain": [
       "<Figure size 432x288 with 1 Axes>"
      ]
     },
     "metadata": {
      "needs_background": "light"
     },
     "output_type": "display_data"
    }
   ],
   "source": [
    "plt.scatter(x=Y[:,0],y=Y[:,1])\n",
    "plt.title(\"correlation:\" + str(np.round(np.corrcoef(Y[:,0],Y[:,1])[1,0],2)))\n",
    "plt.show()"
   ]
  },
  {
   "cell_type": "code",
   "execution_count": null,
   "metadata": {},
   "outputs": [],
   "source": []
  }
 ],
 "metadata": {
  "kernelspec": {
   "display_name": "Python 3",
   "language": "python",
   "name": "python3"
  },
  "language_info": {
   "codemirror_mode": {
    "name": "ipython",
    "version": 3
   },
   "file_extension": ".py",
   "mimetype": "text/x-python",
   "name": "python",
   "nbconvert_exporter": "python",
   "pygments_lexer": "ipython3",
   "version": "3.7.4"
  }
 },
 "nbformat": 4,
 "nbformat_minor": 2
}
